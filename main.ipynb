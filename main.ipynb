{
 "cells": [
  {
   "cell_type": "code",
   "execution_count": 5,
   "metadata": {},
   "outputs": [
    {
     "name": "stdout",
     "output_type": "stream",
     "text": [
      "Enter word: word\n",
      "A distinct unit of language (sounds in speech or written letters) with a particular meaning, composed of one or more morphemes, and also of one or more phonemes that determine its sound pattern.\n"
     ]
    },
    {
     "ename": "TypeError",
     "evalue": "translate() missing 1 required positional argument: 'word'",
     "output_type": "error",
     "traceback": [
      "\u001b[1;31m---------------------------------------------------------------------------\u001b[0m",
      "\u001b[1;31mTypeError\u001b[0m                                 Traceback (most recent call last)",
      "\u001b[1;32m<ipython-input-5-5e4f401f31b9>\u001b[0m in \u001b[0;36m<module>\u001b[1;34m\u001b[0m\n\u001b[0;32m     27\u001b[0m \u001b[1;32melse\u001b[0m\u001b[1;33m:\u001b[0m\u001b[1;33m\u001b[0m\u001b[1;33m\u001b[0m\u001b[0m\n\u001b[0;32m     28\u001b[0m     \u001b[0mprint\u001b[0m\u001b[1;33m(\u001b[0m\u001b[0moutput\u001b[0m\u001b[1;33m)\u001b[0m\u001b[1;33m\u001b[0m\u001b[1;33m\u001b[0m\u001b[0m\n\u001b[1;32m---> 29\u001b[1;33m \u001b[0mtranslate\u001b[0m\u001b[1;33m(\u001b[0m\u001b[1;33m)\u001b[0m\u001b[1;33m\u001b[0m\u001b[1;33m\u001b[0m\u001b[0m\n\u001b[0m",
      "\u001b[1;31mTypeError\u001b[0m: translate() missing 1 required positional argument: 'word'"
     ]
    }
   ],
   "source": [
    "import json as jn\n",
    "import difflib\n",
    "\n",
    "data  = jn.load(open(\"C:\\\\Users\\LG_ML\\Desktop\\DATA\\Py-main\\Programs\\Dictionary\\data.json\"))\n",
    "\n",
    "def translate(word):\n",
    "    word = word.lower()\n",
    "    if word in data:\n",
    "        return data[word]\n",
    "    elif len(difflib.get_close_matches(word, data.keys())) > 0:\n",
    "        yn = input(\"Did you mean %s? Press Y if Yes and N if No\" % difflib.get_close_matches(word, data.keys())[0])\n",
    "        print(yn)\n",
    "        if yn ==\"Y\" or yn == \"y\":\n",
    "            return data[difflib.get_close_matches(word, data.keys())[0]]\n",
    "        elif yn ==\"N\" or yn == \"n\":\n",
    "            return \"Word doesn't exist, Try again\"\n",
    "        else:\n",
    "            return \"Cant understand your entery\"\n",
    "    else:\n",
    "        return \"The word is doesn't exist, Try again\"\n",
    "\n",
    "word = input(\"Enter word: \")\n",
    "output = (translate(word))\n",
    "if type(output) == list:\n",
    "    for i in output:\n",
    "        print(i)\n",
    "else:\n",
    "    print(output)\n",
    "translate()\n"
   ]
  },
  {
   "cell_type": "code",
   "execution_count": null,
   "metadata": {},
   "outputs": [],
   "source": []
  }
 ],
 "metadata": {
  "kernelspec": {
   "display_name": "Python 3",
   "language": "python",
   "name": "python3"
  },
  "language_info": {
   "codemirror_mode": {
    "name": "ipython",
    "version": 3
   },
   "file_extension": ".py",
   "mimetype": "text/x-python",
   "name": "python",
   "nbconvert_exporter": "python",
   "pygments_lexer": "ipython3",
   "version": "3.8.3"
  }
 },
 "nbformat": 4,
 "nbformat_minor": 2
}
